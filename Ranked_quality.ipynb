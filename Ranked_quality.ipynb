{
 "cells": [
  {
   "cell_type": "code",
   "execution_count": 10,
   "id": "3d9a0feb",
   "metadata": {},
   "outputs": [],
   "source": [
    "#Set Path for Folder cotaining Data\n",
    "PATH <-\"rprog_data_ProgAssignment3-data\"\n",
    "\n",
    "\n",
    "\n",
    "#Specifying the different path for files of data \n",
    "hospital_file <- \"hospital-data.csv\"\n",
    "outcome_file <- \"outcome-of-care-measures.csv\"\n",
    "\n",
    "\n",
    "\n",
    "#Setting the path for Hospital Data\n",
    "hospital_dir <- paste(getwd(), \"/\",PATH,\"/\", hospital_file, sep=\"\")\n",
    "hospital <- read.csv(hospital_dir)\n",
    "\n",
    "\n",
    "\n",
    "#Setting the Path for outcome data\n",
    "outcome_dir <-paste(getwd(), \"/\",PATH,\"/\", outcome_file, sep=\"\")\n",
    "\n",
    "outcome.data <- read.csv(outcome_dir, colClasses = \"character\",)\n",
    "\n"
   ]
  },
  {
   "cell_type": "code",
   "execution_count": 11,
   "id": "6d064480",
   "metadata": {},
   "outputs": [
    {
     "data": {
      "text/html": [
       "<table>\n",
       "<thead><tr><th scope=col>Provider.Number</th><th scope=col>Hospital.Name</th><th scope=col>Address.1</th><th scope=col>Address.2</th><th scope=col>Address.3</th><th scope=col>City</th><th scope=col>State</th><th scope=col>ZIP.Code</th><th scope=col>County.Name</th><th scope=col>Phone.Number</th><th scope=col>...</th><th scope=col>Lower.Readmission.Estimate...Hospital.30.Day.Readmission.Rates.from.Heart.Failure</th><th scope=col>Upper.Readmission.Estimate...Hospital.30.Day.Readmission.Rates.from.Heart.Failure</th><th scope=col>Number.of.Patients...Hospital.30.Day.Readmission.Rates.from.Heart.Failure</th><th scope=col>Footnote...Hospital.30.Day.Readmission.Rates.from.Heart.Failure</th><th scope=col>Hospital.30.Day.Readmission.Rates.from.Pneumonia</th><th scope=col>Comparison.to.U.S..Rate...Hospital.30.Day.Readmission.Rates.from.Pneumonia</th><th scope=col>Lower.Readmission.Estimate...Hospital.30.Day.Readmission.Rates.from.Pneumonia</th><th scope=col>Upper.Readmission.Estimate...Hospital.30.Day.Readmission.Rates.from.Pneumonia</th><th scope=col>Number.of.Patients...Hospital.30.Day.Readmission.Rates.from.Pneumonia</th><th scope=col>Footnote...Hospital.30.Day.Readmission.Rates.from.Pneumonia</th></tr></thead>\n",
       "<tbody>\n",
       "\t<tr><td>010001                              </td><td>SOUTHEAST ALABAMA MEDICAL CENTER    </td><td>1108 ROSS CLARK CIRCLE              </td><td>                                    </td><td>                                    </td><td>DOTHAN                              </td><td>AL                                  </td><td>36301                               </td><td>HOUSTON                             </td><td>3347938701                          </td><td>...                                 </td><td>21.3                                </td><td>26.5                                </td><td>891                                 </td><td>                                    </td><td>17.1                                </td><td>No Different than U.S. National Rate</td><td>14.4                                </td><td>20.4                                </td><td>400                                 </td><td>                                    </td></tr>\n",
       "\t<tr><td>010005                              </td><td>MARSHALL MEDICAL CENTER SOUTH       </td><td>2505 U S HIGHWAY 431 NORTH          </td><td>                                    </td><td>                                    </td><td>BOAZ                                </td><td>AL                                  </td><td>35957                               </td><td>MARSHALL                            </td><td>2565938310                          </td><td>...                                 </td><td>19.2                                </td><td>26.1                                </td><td>264                                 </td><td>                                    </td><td>17.6                                </td><td>No Different than U.S. National Rate</td><td>15.0                                </td><td>20.6                                </td><td>374                                 </td><td>                                    </td></tr>\n",
       "\t<tr><td>010006                              </td><td>ELIZA COFFEE MEMORIAL HOSPITAL      </td><td>205 MARENGO STREET                  </td><td>                                    </td><td>                                    </td><td>FLORENCE                            </td><td>AL                                  </td><td>35631                               </td><td>LAUDERDALE                          </td><td>2567688400                          </td><td>...                                 </td><td>17.2                                </td><td>22.9                                </td><td>614                                 </td><td>                                    </td><td>16.9                                </td><td>No Different than U.S. National Rate</td><td>14.7                                </td><td>19.5                                </td><td>842                                 </td><td>                                    </td></tr>\n",
       "\t<tr><td>010007                              </td><td>MIZELL MEMORIAL HOSPITAL            </td><td>702 N MAIN ST                       </td><td>                                    </td><td>                                    </td><td>OPP                                 </td><td>AL                                  </td><td>36467                               </td><td>COVINGTON                           </td><td>3344933541                          </td><td>...                                 </td><td>22.4                                </td><td>31.9                                </td><td>135                                 </td><td>                                    </td><td>19.4                                </td><td>No Different than U.S. National Rate</td><td>15.9                                </td><td>23.2                                </td><td>254                                 </td><td>                                    </td></tr>\n",
       "\t<tr><td>010008                              </td><td>CRENSHAW COMMUNITY HOSPITAL         </td><td>101 HOSPITAL CIRCLE                 </td><td>                                    </td><td>                                    </td><td>LUVERNE                             </td><td>AL                                  </td><td>36049                               </td><td>CRENSHAW                            </td><td>3343353374                          </td><td>...                                 </td><td>19.9                                </td><td>30.2                                </td><td>59                                  </td><td>                                    </td><td>18.0                                </td><td>No Different than U.S. National Rate</td><td>14.0                                </td><td>22.8                                </td><td>56                                  </td><td>                                    </td></tr>\n",
       "\t<tr><td>010010                              </td><td>MARSHALL MEDICAL CENTER NORTH       </td><td>8000 ALABAMA HIGHWAY 69             </td><td>                                    </td><td>                                    </td><td>GUNTERSVILLE                        </td><td>AL                                  </td><td>35976                               </td><td>MARSHALL                            </td><td>2565718000                          </td><td>...                                 </td><td>20.1                                </td><td>28.2                                </td><td>173                                 </td><td>                                    </td><td>18.7                                </td><td>No Different than U.S. National Rate</td><td>15.7                                </td><td>22.2                                </td><td>326                                 </td><td>                                    </td></tr>\n",
       "</tbody>\n",
       "</table>\n"
      ],
      "text/latex": [
       "\\begin{tabular}{r|llllllllllllllllllllllllllllllllllllllllllllll}\n",
       " Provider.Number & Hospital.Name & Address.1 & Address.2 & Address.3 & City & State & ZIP.Code & County.Name & Phone.Number & ... & Lower.Readmission.Estimate...Hospital.30.Day.Readmission.Rates.from.Heart.Failure & Upper.Readmission.Estimate...Hospital.30.Day.Readmission.Rates.from.Heart.Failure & Number.of.Patients...Hospital.30.Day.Readmission.Rates.from.Heart.Failure & Footnote...Hospital.30.Day.Readmission.Rates.from.Heart.Failure & Hospital.30.Day.Readmission.Rates.from.Pneumonia & Comparison.to.U.S..Rate...Hospital.30.Day.Readmission.Rates.from.Pneumonia & Lower.Readmission.Estimate...Hospital.30.Day.Readmission.Rates.from.Pneumonia & Upper.Readmission.Estimate...Hospital.30.Day.Readmission.Rates.from.Pneumonia & Number.of.Patients...Hospital.30.Day.Readmission.Rates.from.Pneumonia & Footnote...Hospital.30.Day.Readmission.Rates.from.Pneumonia\\\\\n",
       "\\hline\n",
       "\t 010001                               & SOUTHEAST ALABAMA MEDICAL CENTER     & 1108 ROSS CLARK CIRCLE               &                                      &                                      & DOTHAN                               & AL                                   & 36301                                & HOUSTON                              & 3347938701                           & ...                                  & 21.3                                 & 26.5                                 & 891                                  &                                      & 17.1                                 & No Different than U.S. National Rate & 14.4                                 & 20.4                                 & 400                                  &                                     \\\\\n",
       "\t 010005                               & MARSHALL MEDICAL CENTER SOUTH        & 2505 U S HIGHWAY 431 NORTH           &                                      &                                      & BOAZ                                 & AL                                   & 35957                                & MARSHALL                             & 2565938310                           & ...                                  & 19.2                                 & 26.1                                 & 264                                  &                                      & 17.6                                 & No Different than U.S. National Rate & 15.0                                 & 20.6                                 & 374                                  &                                     \\\\\n",
       "\t 010006                               & ELIZA COFFEE MEMORIAL HOSPITAL       & 205 MARENGO STREET                   &                                      &                                      & FLORENCE                             & AL                                   & 35631                                & LAUDERDALE                           & 2567688400                           & ...                                  & 17.2                                 & 22.9                                 & 614                                  &                                      & 16.9                                 & No Different than U.S. National Rate & 14.7                                 & 19.5                                 & 842                                  &                                     \\\\\n",
       "\t 010007                               & MIZELL MEMORIAL HOSPITAL             & 702 N MAIN ST                        &                                      &                                      & OPP                                  & AL                                   & 36467                                & COVINGTON                            & 3344933541                           & ...                                  & 22.4                                 & 31.9                                 & 135                                  &                                      & 19.4                                 & No Different than U.S. National Rate & 15.9                                 & 23.2                                 & 254                                  &                                     \\\\\n",
       "\t 010008                               & CRENSHAW COMMUNITY HOSPITAL          & 101 HOSPITAL CIRCLE                  &                                      &                                      & LUVERNE                              & AL                                   & 36049                                & CRENSHAW                             & 3343353374                           & ...                                  & 19.9                                 & 30.2                                 & 59                                   &                                      & 18.0                                 & No Different than U.S. National Rate & 14.0                                 & 22.8                                 & 56                                   &                                     \\\\\n",
       "\t 010010                               & MARSHALL MEDICAL CENTER NORTH        & 8000 ALABAMA HIGHWAY 69              &                                      &                                      & GUNTERSVILLE                         & AL                                   & 35976                                & MARSHALL                             & 2565718000                           & ...                                  & 20.1                                 & 28.2                                 & 173                                  &                                      & 18.7                                 & No Different than U.S. National Rate & 15.7                                 & 22.2                                 & 326                                  &                                     \\\\\n",
       "\\end{tabular}\n"
      ],
      "text/markdown": [
       "\n",
       "Provider.Number | Hospital.Name | Address.1 | Address.2 | Address.3 | City | State | ZIP.Code | County.Name | Phone.Number | ... | Lower.Readmission.Estimate...Hospital.30.Day.Readmission.Rates.from.Heart.Failure | Upper.Readmission.Estimate...Hospital.30.Day.Readmission.Rates.from.Heart.Failure | Number.of.Patients...Hospital.30.Day.Readmission.Rates.from.Heart.Failure | Footnote...Hospital.30.Day.Readmission.Rates.from.Heart.Failure | Hospital.30.Day.Readmission.Rates.from.Pneumonia | Comparison.to.U.S..Rate...Hospital.30.Day.Readmission.Rates.from.Pneumonia | Lower.Readmission.Estimate...Hospital.30.Day.Readmission.Rates.from.Pneumonia | Upper.Readmission.Estimate...Hospital.30.Day.Readmission.Rates.from.Pneumonia | Number.of.Patients...Hospital.30.Day.Readmission.Rates.from.Pneumonia | Footnote...Hospital.30.Day.Readmission.Rates.from.Pneumonia | \n",
       "|---|---|---|---|---|---|\n",
       "| 010001                               | SOUTHEAST ALABAMA MEDICAL CENTER     | 1108 ROSS CLARK CIRCLE               |                                      |                                      | DOTHAN                               | AL                                   | 36301                                | HOUSTON                              | 3347938701                           | ...                                  | 21.3                                 | 26.5                                 | 891                                  |                                      | 17.1                                 | No Different than U.S. National Rate | 14.4                                 | 20.4                                 | 400                                  |                                      | \n",
       "| 010005                               | MARSHALL MEDICAL CENTER SOUTH        | 2505 U S HIGHWAY 431 NORTH           |                                      |                                      | BOAZ                                 | AL                                   | 35957                                | MARSHALL                             | 2565938310                           | ...                                  | 19.2                                 | 26.1                                 | 264                                  |                                      | 17.6                                 | No Different than U.S. National Rate | 15.0                                 | 20.6                                 | 374                                  |                                      | \n",
       "| 010006                               | ELIZA COFFEE MEMORIAL HOSPITAL       | 205 MARENGO STREET                   |                                      |                                      | FLORENCE                             | AL                                   | 35631                                | LAUDERDALE                           | 2567688400                           | ...                                  | 17.2                                 | 22.9                                 | 614                                  |                                      | 16.9                                 | No Different than U.S. National Rate | 14.7                                 | 19.5                                 | 842                                  |                                      | \n",
       "| 010007                               | MIZELL MEMORIAL HOSPITAL             | 702 N MAIN ST                        |                                      |                                      | OPP                                  | AL                                   | 36467                                | COVINGTON                            | 3344933541                           | ...                                  | 22.4                                 | 31.9                                 | 135                                  |                                      | 19.4                                 | No Different than U.S. National Rate | 15.9                                 | 23.2                                 | 254                                  |                                      | \n",
       "| 010008                               | CRENSHAW COMMUNITY HOSPITAL          | 101 HOSPITAL CIRCLE                  |                                      |                                      | LUVERNE                              | AL                                   | 36049                                | CRENSHAW                             | 3343353374                           | ...                                  | 19.9                                 | 30.2                                 | 59                                   |                                      | 18.0                                 | No Different than U.S. National Rate | 14.0                                 | 22.8                                 | 56                                   |                                      | \n",
       "| 010010                               | MARSHALL MEDICAL CENTER NORTH        | 8000 ALABAMA HIGHWAY 69              |                                      |                                      | GUNTERSVILLE                         | AL                                   | 35976                                | MARSHALL                             | 2565718000                           | ...                                  | 20.1                                 | 28.2                                 | 173                                  |                                      | 18.7                                 | No Different than U.S. National Rate | 15.7                                 | 22.2                                 | 326                                  |                                      | \n",
       "\n",
       "\n"
      ],
      "text/plain": [
       "  Provider.Number Hospital.Name                    Address.1                 \n",
       "1 010001          SOUTHEAST ALABAMA MEDICAL CENTER 1108 ROSS CLARK CIRCLE    \n",
       "2 010005          MARSHALL MEDICAL CENTER SOUTH    2505 U S HIGHWAY 431 NORTH\n",
       "3 010006          ELIZA COFFEE MEMORIAL HOSPITAL   205 MARENGO STREET        \n",
       "4 010007          MIZELL MEMORIAL HOSPITAL         702 N MAIN ST             \n",
       "5 010008          CRENSHAW COMMUNITY HOSPITAL      101 HOSPITAL CIRCLE       \n",
       "6 010010          MARSHALL MEDICAL CENTER NORTH    8000 ALABAMA HIGHWAY 69   \n",
       "  Address.2 Address.3 City         State ZIP.Code County.Name Phone.Number ...\n",
       "1                     DOTHAN       AL    36301    HOUSTON     3347938701   ...\n",
       "2                     BOAZ         AL    35957    MARSHALL    2565938310   ...\n",
       "3                     FLORENCE     AL    35631    LAUDERDALE  2567688400   ...\n",
       "4                     OPP          AL    36467    COVINGTON   3344933541   ...\n",
       "5                     LUVERNE      AL    36049    CRENSHAW    3343353374   ...\n",
       "6                     GUNTERSVILLE AL    35976    MARSHALL    2565718000   ...\n",
       "  Lower.Readmission.Estimate...Hospital.30.Day.Readmission.Rates.from.Heart.Failure\n",
       "1 21.3                                                                             \n",
       "2 19.2                                                                             \n",
       "3 17.2                                                                             \n",
       "4 22.4                                                                             \n",
       "5 19.9                                                                             \n",
       "6 20.1                                                                             \n",
       "  Upper.Readmission.Estimate...Hospital.30.Day.Readmission.Rates.from.Heart.Failure\n",
       "1 26.5                                                                             \n",
       "2 26.1                                                                             \n",
       "3 22.9                                                                             \n",
       "4 31.9                                                                             \n",
       "5 30.2                                                                             \n",
       "6 28.2                                                                             \n",
       "  Number.of.Patients...Hospital.30.Day.Readmission.Rates.from.Heart.Failure\n",
       "1 891                                                                      \n",
       "2 264                                                                      \n",
       "3 614                                                                      \n",
       "4 135                                                                      \n",
       "5 59                                                                       \n",
       "6 173                                                                      \n",
       "  Footnote...Hospital.30.Day.Readmission.Rates.from.Heart.Failure\n",
       "1                                                                \n",
       "2                                                                \n",
       "3                                                                \n",
       "4                                                                \n",
       "5                                                                \n",
       "6                                                                \n",
       "  Hospital.30.Day.Readmission.Rates.from.Pneumonia\n",
       "1 17.1                                            \n",
       "2 17.6                                            \n",
       "3 16.9                                            \n",
       "4 19.4                                            \n",
       "5 18.0                                            \n",
       "6 18.7                                            \n",
       "  Comparison.to.U.S..Rate...Hospital.30.Day.Readmission.Rates.from.Pneumonia\n",
       "1 No Different than U.S. National Rate                                      \n",
       "2 No Different than U.S. National Rate                                      \n",
       "3 No Different than U.S. National Rate                                      \n",
       "4 No Different than U.S. National Rate                                      \n",
       "5 No Different than U.S. National Rate                                      \n",
       "6 No Different than U.S. National Rate                                      \n",
       "  Lower.Readmission.Estimate...Hospital.30.Day.Readmission.Rates.from.Pneumonia\n",
       "1 14.4                                                                         \n",
       "2 15.0                                                                         \n",
       "3 14.7                                                                         \n",
       "4 15.9                                                                         \n",
       "5 14.0                                                                         \n",
       "6 15.7                                                                         \n",
       "  Upper.Readmission.Estimate...Hospital.30.Day.Readmission.Rates.from.Pneumonia\n",
       "1 20.4                                                                         \n",
       "2 20.6                                                                         \n",
       "3 19.5                                                                         \n",
       "4 23.2                                                                         \n",
       "5 22.8                                                                         \n",
       "6 22.2                                                                         \n",
       "  Number.of.Patients...Hospital.30.Day.Readmission.Rates.from.Pneumonia\n",
       "1 400                                                                  \n",
       "2 374                                                                  \n",
       "3 842                                                                  \n",
       "4 254                                                                  \n",
       "5 56                                                                   \n",
       "6 326                                                                  \n",
       "  Footnote...Hospital.30.Day.Readmission.Rates.from.Pneumonia\n",
       "1                                                            \n",
       "2                                                            \n",
       "3                                                            \n",
       "4                                                            \n",
       "5                                                            \n",
       "6                                                            "
      ]
     },
     "metadata": {},
     "output_type": "display_data"
    }
   ],
   "source": [
    "head(outcome.data)"
   ]
  },
  {
   "cell_type": "code",
   "execution_count": 4,
   "id": "0b639979",
   "metadata": {},
   "outputs": [],
   "source": [
    "\n",
    "\n",
    "\n",
    "#Creating a function That finds The best state in terms of least mortality way\n",
    "#outcomes can be --> heart attack, heart failure, or pneumonia\n",
    "best <-function(state, outcome){\n",
    "  \n",
    "  \n",
    "  #Simplifying the data to a Samller dataframe: Only using the information we need\n",
    "  rates <- cbind(outcome.data[2],outcome.data[7], outcome.data[11], outcome.data[17], outcome.data[23] )\n",
    "  \n",
    "  \n",
    "  \n",
    "  #Renaming the Columns to simplify searching\n",
    "  colnames(rates) <- c(\"Hospital\", \"State\", \"heart attack\", \"heart failure\", \"pneumonia\")\n",
    "  \n",
    "  \n",
    "  \n",
    "  #Invalid input cases\n",
    "  if(!state %in% rates[,\"State\"]){print(\"Invalid State\")}\n",
    "  if(!outcome %in% colnames(rates)){print(\"Invalid outcome\")}\n",
    "  \n",
    "  \n",
    "  #Getting data according to State and removing NA cases\n",
    "  nrates <- rates[which(rates$State == state),]\n",
    "  nrates <- nrates[which(!nrates[,outcome] == \"Not Available\"),]\n",
    "  \n",
    "  #transform the rates into numeric type to compare them\n",
    "  nrates[,outcome] <- as.numeric(nrates[, outcome])\n",
    "  \n",
    "  \n",
    "  #Order the rates from lowest to Highest\n",
    "  rank <- nrates[order(nrates[,outcome]),]\n",
    "  \n",
    "  \n",
    "  #Get the Hospital name with the least mortality Rates\n",
    "  rank <- nrates[nrates[,outcome] == min(nrates[,outcome]),1]\n",
    "  \n",
    "  #chose according to aphabetical order if tie\n",
    "  sort(rank)[1]\n",
    "  }\n"
   ]
  },
  {
   "cell_type": "code",
   "execution_count": 15,
   "id": "904d09e8",
   "metadata": {},
   "outputs": [
    {
     "data": {
      "text/html": [
       "'KINGSBROOK JEWISH MEDICAL CENTER'"
      ],
      "text/latex": [
       "'KINGSBROOK JEWISH MEDICAL CENTER'"
      ],
      "text/markdown": [
       "'KINGSBROOK JEWISH MEDICAL CENTER'"
      ],
      "text/plain": [
       "[1] \"KINGSBROOK JEWISH MEDICAL CENTER\""
      ]
     },
     "metadata": {},
     "output_type": "display_data"
    },
    {
     "data": {
      "text/html": [
       "'NYU HOSPITALS CENTER'"
      ],
      "text/latex": [
       "'NYU HOSPITALS CENTER'"
      ],
      "text/markdown": [
       "'NYU HOSPITALS CENTER'"
      ],
      "text/plain": [
       "[1] \"NYU HOSPITALS CENTER\""
      ]
     },
     "metadata": {},
     "output_type": "display_data"
    },
    {
     "data": {
      "text/html": [
       "'MAIMONIDES MEDICAL CENTER'"
      ],
      "text/latex": [
       "'MAIMONIDES MEDICAL CENTER'"
      ],
      "text/markdown": [
       "'MAIMONIDES MEDICAL CENTER'"
      ],
      "text/plain": [
       "[1] \"MAIMONIDES MEDICAL CENTER\""
      ]
     },
     "metadata": {},
     "output_type": "display_data"
    }
   ],
   "source": [
    "best(\"NY\", \"heart failure\")\n",
    "best(\"NY\", \"heart attack\")\n",
    "best(\"NY\", \"pneumonia\")\n"
   ]
  },
  {
   "cell_type": "code",
   "execution_count": 18,
   "id": "d21b3b1a",
   "metadata": {},
   "outputs": [],
   "source": [
    "\n",
    "#Similar to Best Function but we retrieve it according to the num or rank we want it to be\n",
    "# sum can be: best, worst or a int\n",
    "rankhospital <- function(state, outcome, num = \"best\") {\n",
    "  \n",
    "  #assigning the data we need to a new dataframe\n",
    "  rates <- cbind(outcome.data[2],outcome.data[7], outcome.data[11], outcome.data[17], outcome.data[23] )\n",
    "  colnames(rates) <- c(\"Hospital\", \"State\", \"heart attack\", \"heart failure\", \"pneumonia\")\n",
    "  \n",
    "  #Invalid input cases\n",
    "  if(!state %in% rates[,\"State\"]){print(\"Invalid State\")}\n",
    "  if(!outcome %in% colnames(rates)){print(\"Invalid outcome\")}\n",
    "  \n",
    "  nrates <- rates[which(rates$State == state),]\n",
    "  nrates <- nrates[which(!nrates[,outcome] == \"Not Available\"),]\n",
    "  nrates[,outcome] <- as.numeric(nrates[, outcome])\n",
    "  \n",
    "  \n",
    "  \n",
    "  rank <- nrates[order(nrates[, outcome], nrates[, \"Hospital\"]), ]\n",
    "  if(num == \"best\"){\n",
    "    rank <- rank[rank[,outcome] == min(rank[,outcome]),1]\n",
    "    sort(rank)[1]\n",
    "  }\n",
    "  else if(num == \"worst\"){\n",
    "    rank <- rank[rank[,outcome] == max(rank[,outcome]),1]\n",
    "    rank\n",
    "    }\n",
    "  else{\n",
    "    rank[num,1]\n",
    "    \n",
    "      \n",
    "    }  \n",
    "  }"
   ]
  },
  {
   "cell_type": "code",
   "execution_count": 21,
   "id": "5544ad14",
   "metadata": {},
   "outputs": [
    {
     "data": {
      "text/html": [
       "'CAYUGA MEDICAL CENTER AT ITHACA'"
      ],
      "text/latex": [
       "'CAYUGA MEDICAL CENTER AT ITHACA'"
      ],
      "text/markdown": [
       "'CAYUGA MEDICAL CENTER AT ITHACA'"
      ],
      "text/plain": [
       "[1] \"CAYUGA MEDICAL CENTER AT ITHACA\""
      ]
     },
     "metadata": {},
     "output_type": "display_data"
    },
    {
     "data": {
      "text/html": [
       "'F F THOMPSON HOSPITAL'"
      ],
      "text/latex": [
       "'F F THOMPSON HOSPITAL'"
      ],
      "text/markdown": [
       "'F F THOMPSON HOSPITAL'"
      ],
      "text/plain": [
       "[1] \"F F THOMPSON HOSPITAL\""
      ]
     },
     "metadata": {},
     "output_type": "display_data"
    },
    {
     "data": {
      "text/html": [
       "'ONEIDA HEALTHCARE CENTER'"
      ],
      "text/latex": [
       "'ONEIDA HEALTHCARE CENTER'"
      ],
      "text/markdown": [
       "'ONEIDA HEALTHCARE CENTER'"
      ],
      "text/plain": [
       "[1] \"ONEIDA HEALTHCARE CENTER\""
      ]
     },
     "metadata": {},
     "output_type": "display_data"
    }
   ],
   "source": [
    "rankhospital(\"NY\", \"heart failure\", \"worst\")\n",
    "rankhospital(\"NY\", \"heart attack\", \"worst\")\n",
    "rankhospital(\"NY\", \"pneumonia\", \"worst\")"
   ]
  },
  {
   "cell_type": "code",
   "execution_count": 28,
   "id": "dc0d93ee",
   "metadata": {},
   "outputs": [],
   "source": [
    "rankall <- function(outcome, num = \"best\"){\n",
    "  rank = data.frame()\n",
    "  \n",
    "  if(num == \"best\"){rnum <- 1}\n",
    "  else if(num == \"worst\"){rnum <- nrow(nrates)}\n",
    "  else{rnum <- num}\n",
    "  \n",
    "  rates <- cbind(outcome.data[2],outcome.data[7], outcome.data[11], outcome.data[17], outcome.data[23] )\n",
    "  colnames(rates) <- c(\"Hospital\", \"State\", \"heart attack\", \"heart failure\", \"pneumonia\")\n",
    "  if(!outcome %in% colnames(rates)){print(\"Invalid outcome\")}\n",
    "  \n",
    "  nrates <- rates[which(!rates[,outcome] == \"Not Available\"),]\n",
    "  nrates[,outcome] <- as.numeric(nrates[, outcome])\n",
    "  \n",
    "  for(state in sort(unique(nrates$State))){\n",
    "      nrates <- rates[which(rates$State == state),]\n",
    "      nrates <- nrates[which(!nrates[,outcome] == \"Not Available\"),]\n",
    "      nrates[,outcome] <- as.numeric(nrates[, outcome])\n",
    "      \n",
    "      \n",
    "     \n",
    "      \n",
    "      nrates<- nrates[order(nrates[, outcome], nrates[, \"Hospital\"]), ]\n",
    "      nname <-nrates[1,rnum]\n",
    "      rank <-rbind(rank,data.frame(hospital=nname,state = state))\n",
    "  }\n",
    "  \n",
    "  rank\n",
    "}"
   ]
  },
  {
   "cell_type": "code",
   "execution_count": 29,
   "id": "e75acf4c",
   "metadata": {},
   "outputs": [
    {
     "data": {
      "text/html": [
       "<table>\n",
       "<thead><tr><th scope=col>hospital</th><th scope=col>state</th></tr></thead>\n",
       "<tbody>\n",
       "\t<tr><td>SOUTH PENINSULA HOSPITAL                                         </td><td>AK                                                               </td></tr>\n",
       "\t<tr><td>GEORGE H. LANIER MEMORIAL HOSPITAL                               </td><td>AL                                                               </td></tr>\n",
       "\t<tr><td>VA CENTRAL AR. VETERANS HEALTHCARE SYSTEM LR                     </td><td>AR                                                               </td></tr>\n",
       "\t<tr><td>BANNER GOOD SAMARITAN MEDICAL CENTER                             </td><td>AZ                                                               </td></tr>\n",
       "\t<tr><td>CENTINELA HOSPITAL MEDICAL CENTER                                </td><td>CA                                                               </td></tr>\n",
       "\t<tr><td>PARKER ADVENTIST HOSPITAL                                        </td><td>CO                                                               </td></tr>\n",
       "\t<tr><td>YALE-NEW HAVEN HOSPITAL                                          </td><td>CT                                                               </td></tr>\n",
       "\t<tr><td>PROVIDENCE HOSPITAL                                              </td><td>DC                                                               </td></tr>\n",
       "\t<tr><td>BAYHEALTH - KENT GENERAL HOSPITAL                                </td><td>DE                                                               </td></tr>\n",
       "\t<tr><td>FLORIDA HOSPITAL HEARTLAND MEDICAL CENTER                        </td><td>FL                                                               </td></tr>\n",
       "\t<tr><td>DOCTORS HOSPITAL                                                 </td><td>GA                                                               </td></tr>\n",
       "\t<tr><td>GUAM MEMORIAL HOSPITAL AUTHORITY                                 </td><td>GU                                                               </td></tr>\n",
       "\t<tr><td>KUAKINI MEDICAL CENTER                                           </td><td>HI                                                               </td></tr>\n",
       "\t<tr><td>MERCY MEDICAL CENTER - CEDAR RAPIDS                              </td><td>IA                                                               </td></tr>\n",
       "\t<tr><td>SAINT ALPHONSUS MEDICAL CENTER - NAMPA                           </td><td>ID                                                               </td></tr>\n",
       "\t<tr><td>RUSH UNIVERSITY MEDICAL CENTER                                   </td><td>IL                                                               </td></tr>\n",
       "\t<tr><td>ST CATHERINE HOSPITAL INC                                        </td><td>IN                                                               </td></tr>\n",
       "\t<tr><td>HAYS MEDICAL CENTER                                              </td><td>KS                                                               </td></tr>\n",
       "\t<tr><td>WESTLAKE REGIONAL HOSPITAL                                       </td><td>KY                                                               </td></tr>\n",
       "\t<tr><td>WILLIS KNIGHTON MEDICAL CENTER                                   </td><td>LA                                                               </td></tr>\n",
       "\t<tr><td>ST ELIZABETH'S MEDICAL CENTER                                    </td><td>MA                                                               </td></tr>\n",
       "\t<tr><td>MEDSTAR GOOD SAMARITAN HOSPITAL                                  </td><td>MD                                                               </td></tr>\n",
       "\t<tr><td>MILES MEMORIAL HOSPITAL (LINCOLN COUNTY HEALTHCARE               </td><td>ME                                                               </td></tr>\n",
       "\t<tr><td>HARPER UNIVERSITY HOSPITAL                                       </td><td>MI                                                               </td></tr>\n",
       "\t<tr><td>ESSENTIA HEALTH ST JOSEPH'S MEDICAL CENTER                       </td><td>MN                                                               </td></tr>\n",
       "\t<tr><td>NORTH KANSAS CITY HOSPITAL                                       </td><td>MO                                                               </td></tr>\n",
       "\t<tr><td>SOUTH CENTRAL REG MED CTR                                        </td><td>MS                                                               </td></tr>\n",
       "\t<tr><td>COMMUNITY MEDICAL CENTER INC                                     </td><td>MT                                                               </td></tr>\n",
       "\t<tr><td>FIRSTHEALTH MOORE REGIONAL HOSPITAL                              </td><td>NC                                                               </td></tr>\n",
       "\t<tr><td>ST ALOISIUS MEDICAL CENTER                                       </td><td>ND                                                               </td></tr>\n",
       "\t<tr><td>NEBRASKA HEART HOSPITAL                                          </td><td>NE                                                               </td></tr>\n",
       "\t<tr><td>VALLEY REGIONAL HOSPITAL                                         </td><td>NH                                                               </td></tr>\n",
       "\t<tr><td>EAST ORANGE GENERAL HOSPITAL                                     </td><td>NJ                                                               </td></tr>\n",
       "\t<tr><td>LOVELACE REGIONAL HOSPITAL - ROSWELL                             </td><td>NM                                                               </td></tr>\n",
       "\t<tr><td>MOUNTAINVIEW HOSPITAL                                            </td><td>NV                                                               </td></tr>\n",
       "\t<tr><td>KINGSBROOK JEWISH MEDICAL CENTER                                 </td><td>NY                                                               </td></tr>\n",
       "\t<tr><td>FAIRVIEW HOSPITAL                                                </td><td>OH                                                               </td></tr>\n",
       "\t<tr><td>DUNCAN REGIONAL HOSPITAL, INC                                    </td><td>OK                                                               </td></tr>\n",
       "\t<tr><td>PORTLAND VA MEDICAL CENTER                                       </td><td>OR                                                               </td></tr>\n",
       "\t<tr><td>PHILADELPHIA VA MEDICAL CENTER                                   </td><td>PA                                                               </td></tr>\n",
       "\t<tr><td>SAN LUKE'S MEMORIAL HOSPITAL INC                                 </td><td>PR                                                               </td></tr>\n",
       "\t<tr><td>WESTERLY HOSPITAL                                                </td><td>RI                                                               </td></tr>\n",
       "\t<tr><td>PALMETTO HEALTH BAPTIST                                          </td><td>SC                                                               </td></tr>\n",
       "\t<tr><td>AVERA HEART HOSPITAL OF SOUTH DAKOTA LLC                         </td><td>SD                                                               </td></tr>\n",
       "\t<tr><td>WELLMONT HAWKINS COUNTY MEMORIAL HOSPITAL                        </td><td>TN                                                               </td></tr>\n",
       "\t<tr><td>FORT DUNCAN MEDICAL CENTER                                       </td><td>TX                                                               </td></tr>\n",
       "\t<tr><td>VA SALT LAKE CITY HEALTHCARE - GEORGE E. WAHLEN VA MEDICAL CENTER</td><td>UT                                                               </td></tr>\n",
       "\t<tr><td>SENTARA POTOMAC HOSPITAL                                         </td><td>VA                                                               </td></tr>\n",
       "\t<tr><td><span style=white-space:pre-wrap>GOV JUAN F LUIS HOSPITAL &amp; MEDICAL CTR                           </span></td><td>VI                                                                                                           </td></tr>\n",
       "\t<tr><td>SPRINGFIELD HOSPITAL                                             </td><td>VT                                                               </td></tr>\n",
       "\t<tr><td>HARBORVIEW MEDICAL CENTER                                        </td><td>WA                                                               </td></tr>\n",
       "\t<tr><td>AURORA ST LUKES MEDICAL CENTER                                   </td><td>WI                                                               </td></tr>\n",
       "\t<tr><td>FAIRMONT GENERAL HOSPITAL                                        </td><td>WV                                                               </td></tr>\n",
       "\t<tr><td>CHEYENNE VA MEDICAL CENTER                                       </td><td>WY                                                               </td></tr>\n",
       "</tbody>\n",
       "</table>\n"
      ],
      "text/latex": [
       "\\begin{tabular}{r|ll}\n",
       " hospital & state\\\\\n",
       "\\hline\n",
       "\t SOUTH PENINSULA HOSPITAL                                          & AK                                                               \\\\\n",
       "\t GEORGE H. LANIER MEMORIAL HOSPITAL                                & AL                                                               \\\\\n",
       "\t VA CENTRAL AR. VETERANS HEALTHCARE SYSTEM LR                      & AR                                                               \\\\\n",
       "\t BANNER GOOD SAMARITAN MEDICAL CENTER                              & AZ                                                               \\\\\n",
       "\t CENTINELA HOSPITAL MEDICAL CENTER                                 & CA                                                               \\\\\n",
       "\t PARKER ADVENTIST HOSPITAL                                         & CO                                                               \\\\\n",
       "\t YALE-NEW HAVEN HOSPITAL                                           & CT                                                               \\\\\n",
       "\t PROVIDENCE HOSPITAL                                               & DC                                                               \\\\\n",
       "\t BAYHEALTH - KENT GENERAL HOSPITAL                                 & DE                                                               \\\\\n",
       "\t FLORIDA HOSPITAL HEARTLAND MEDICAL CENTER                         & FL                                                               \\\\\n",
       "\t DOCTORS HOSPITAL                                                  & GA                                                               \\\\\n",
       "\t GUAM MEMORIAL HOSPITAL AUTHORITY                                  & GU                                                               \\\\\n",
       "\t KUAKINI MEDICAL CENTER                                            & HI                                                               \\\\\n",
       "\t MERCY MEDICAL CENTER - CEDAR RAPIDS                               & IA                                                               \\\\\n",
       "\t SAINT ALPHONSUS MEDICAL CENTER - NAMPA                            & ID                                                               \\\\\n",
       "\t RUSH UNIVERSITY MEDICAL CENTER                                    & IL                                                               \\\\\n",
       "\t ST CATHERINE HOSPITAL INC                                         & IN                                                               \\\\\n",
       "\t HAYS MEDICAL CENTER                                               & KS                                                               \\\\\n",
       "\t WESTLAKE REGIONAL HOSPITAL                                        & KY                                                               \\\\\n",
       "\t WILLIS KNIGHTON MEDICAL CENTER                                    & LA                                                               \\\\\n",
       "\t ST ELIZABETH'S MEDICAL CENTER                                     & MA                                                               \\\\\n",
       "\t MEDSTAR GOOD SAMARITAN HOSPITAL                                   & MD                                                               \\\\\n",
       "\t MILES MEMORIAL HOSPITAL (LINCOLN COUNTY HEALTHCARE                & ME                                                               \\\\\n",
       "\t HARPER UNIVERSITY HOSPITAL                                        & MI                                                               \\\\\n",
       "\t ESSENTIA HEALTH ST JOSEPH'S MEDICAL CENTER                        & MN                                                               \\\\\n",
       "\t NORTH KANSAS CITY HOSPITAL                                        & MO                                                               \\\\\n",
       "\t SOUTH CENTRAL REG MED CTR                                         & MS                                                               \\\\\n",
       "\t COMMUNITY MEDICAL CENTER INC                                      & MT                                                               \\\\\n",
       "\t FIRSTHEALTH MOORE REGIONAL HOSPITAL                               & NC                                                               \\\\\n",
       "\t ST ALOISIUS MEDICAL CENTER                                        & ND                                                               \\\\\n",
       "\t NEBRASKA HEART HOSPITAL                                           & NE                                                               \\\\\n",
       "\t VALLEY REGIONAL HOSPITAL                                          & NH                                                               \\\\\n",
       "\t EAST ORANGE GENERAL HOSPITAL                                      & NJ                                                               \\\\\n",
       "\t LOVELACE REGIONAL HOSPITAL - ROSWELL                              & NM                                                               \\\\\n",
       "\t MOUNTAINVIEW HOSPITAL                                             & NV                                                               \\\\\n",
       "\t KINGSBROOK JEWISH MEDICAL CENTER                                  & NY                                                               \\\\\n",
       "\t FAIRVIEW HOSPITAL                                                 & OH                                                               \\\\\n",
       "\t DUNCAN REGIONAL HOSPITAL, INC                                     & OK                                                               \\\\\n",
       "\t PORTLAND VA MEDICAL CENTER                                        & OR                                                               \\\\\n",
       "\t PHILADELPHIA VA MEDICAL CENTER                                    & PA                                                               \\\\\n",
       "\t SAN LUKE'S MEMORIAL HOSPITAL INC                                  & PR                                                               \\\\\n",
       "\t WESTERLY HOSPITAL                                                 & RI                                                               \\\\\n",
       "\t PALMETTO HEALTH BAPTIST                                           & SC                                                               \\\\\n",
       "\t AVERA HEART HOSPITAL OF SOUTH DAKOTA LLC                          & SD                                                               \\\\\n",
       "\t WELLMONT HAWKINS COUNTY MEMORIAL HOSPITAL                         & TN                                                               \\\\\n",
       "\t FORT DUNCAN MEDICAL CENTER                                        & TX                                                               \\\\\n",
       "\t VA SALT LAKE CITY HEALTHCARE - GEORGE E. WAHLEN VA MEDICAL CENTER & UT                                                               \\\\\n",
       "\t SENTARA POTOMAC HOSPITAL                                          & VA                                                               \\\\\n",
       "\t GOV JUAN F LUIS HOSPITAL \\& MEDICAL CTR                            & VI                                                                 \\\\\n",
       "\t SPRINGFIELD HOSPITAL                                              & VT                                                               \\\\\n",
       "\t HARBORVIEW MEDICAL CENTER                                         & WA                                                               \\\\\n",
       "\t AURORA ST LUKES MEDICAL CENTER                                    & WI                                                               \\\\\n",
       "\t FAIRMONT GENERAL HOSPITAL                                         & WV                                                               \\\\\n",
       "\t CHEYENNE VA MEDICAL CENTER                                        & WY                                                               \\\\\n",
       "\\end{tabular}\n"
      ],
      "text/markdown": [
       "\n",
       "hospital | state | \n",
       "|---|---|---|---|---|---|---|---|---|---|---|---|---|---|---|---|---|---|---|---|---|---|---|---|---|---|---|---|---|---|---|---|---|---|---|---|---|---|---|---|---|---|---|---|---|---|---|---|---|---|---|---|---|---|\n",
       "| SOUTH PENINSULA HOSPITAL                                          | AK                                                                | \n",
       "| GEORGE H. LANIER MEMORIAL HOSPITAL                                | AL                                                                | \n",
       "| VA CENTRAL AR. VETERANS HEALTHCARE SYSTEM LR                      | AR                                                                | \n",
       "| BANNER GOOD SAMARITAN MEDICAL CENTER                              | AZ                                                                | \n",
       "| CENTINELA HOSPITAL MEDICAL CENTER                                 | CA                                                                | \n",
       "| PARKER ADVENTIST HOSPITAL                                         | CO                                                                | \n",
       "| YALE-NEW HAVEN HOSPITAL                                           | CT                                                                | \n",
       "| PROVIDENCE HOSPITAL                                               | DC                                                                | \n",
       "| BAYHEALTH - KENT GENERAL HOSPITAL                                 | DE                                                                | \n",
       "| FLORIDA HOSPITAL HEARTLAND MEDICAL CENTER                         | FL                                                                | \n",
       "| DOCTORS HOSPITAL                                                  | GA                                                                | \n",
       "| GUAM MEMORIAL HOSPITAL AUTHORITY                                  | GU                                                                | \n",
       "| KUAKINI MEDICAL CENTER                                            | HI                                                                | \n",
       "| MERCY MEDICAL CENTER - CEDAR RAPIDS                               | IA                                                                | \n",
       "| SAINT ALPHONSUS MEDICAL CENTER - NAMPA                            | ID                                                                | \n",
       "| RUSH UNIVERSITY MEDICAL CENTER                                    | IL                                                                | \n",
       "| ST CATHERINE HOSPITAL INC                                         | IN                                                                | \n",
       "| HAYS MEDICAL CENTER                                               | KS                                                                | \n",
       "| WESTLAKE REGIONAL HOSPITAL                                        | KY                                                                | \n",
       "| WILLIS KNIGHTON MEDICAL CENTER                                    | LA                                                                | \n",
       "| ST ELIZABETH'S MEDICAL CENTER                                     | MA                                                                | \n",
       "| MEDSTAR GOOD SAMARITAN HOSPITAL                                   | MD                                                                | \n",
       "| MILES MEMORIAL HOSPITAL (LINCOLN COUNTY HEALTHCARE                | ME                                                                | \n",
       "| HARPER UNIVERSITY HOSPITAL                                        | MI                                                                | \n",
       "| ESSENTIA HEALTH ST JOSEPH'S MEDICAL CENTER                        | MN                                                                | \n",
       "| NORTH KANSAS CITY HOSPITAL                                        | MO                                                                | \n",
       "| SOUTH CENTRAL REG MED CTR                                         | MS                                                                | \n",
       "| COMMUNITY MEDICAL CENTER INC                                      | MT                                                                | \n",
       "| FIRSTHEALTH MOORE REGIONAL HOSPITAL                               | NC                                                                | \n",
       "| ST ALOISIUS MEDICAL CENTER                                        | ND                                                                | \n",
       "| NEBRASKA HEART HOSPITAL                                           | NE                                                                | \n",
       "| VALLEY REGIONAL HOSPITAL                                          | NH                                                                | \n",
       "| EAST ORANGE GENERAL HOSPITAL                                      | NJ                                                                | \n",
       "| LOVELACE REGIONAL HOSPITAL - ROSWELL                              | NM                                                                | \n",
       "| MOUNTAINVIEW HOSPITAL                                             | NV                                                                | \n",
       "| KINGSBROOK JEWISH MEDICAL CENTER                                  | NY                                                                | \n",
       "| FAIRVIEW HOSPITAL                                                 | OH                                                                | \n",
       "| DUNCAN REGIONAL HOSPITAL, INC                                     | OK                                                                | \n",
       "| PORTLAND VA MEDICAL CENTER                                        | OR                                                                | \n",
       "| PHILADELPHIA VA MEDICAL CENTER                                    | PA                                                                | \n",
       "| SAN LUKE'S MEMORIAL HOSPITAL INC                                  | PR                                                                | \n",
       "| WESTERLY HOSPITAL                                                 | RI                                                                | \n",
       "| PALMETTO HEALTH BAPTIST                                           | SC                                                                | \n",
       "| AVERA HEART HOSPITAL OF SOUTH DAKOTA LLC                          | SD                                                                | \n",
       "| WELLMONT HAWKINS COUNTY MEMORIAL HOSPITAL                         | TN                                                                | \n",
       "| FORT DUNCAN MEDICAL CENTER                                        | TX                                                                | \n",
       "| VA SALT LAKE CITY HEALTHCARE - GEORGE E. WAHLEN VA MEDICAL CENTER | UT                                                                | \n",
       "| SENTARA POTOMAC HOSPITAL                                          | VA                                                                | \n",
       "| GOV JUAN F LUIS HOSPITAL & MEDICAL CTR                            | VI                                                                | \n",
       "| SPRINGFIELD HOSPITAL                                              | VT                                                                | \n",
       "| HARBORVIEW MEDICAL CENTER                                         | WA                                                                | \n",
       "| AURORA ST LUKES MEDICAL CENTER                                    | WI                                                                | \n",
       "| FAIRMONT GENERAL HOSPITAL                                         | WV                                                                | \n",
       "| CHEYENNE VA MEDICAL CENTER                                        | WY                                                                | \n",
       "\n",
       "\n"
      ],
      "text/plain": [
       "   hospital                                                          state\n",
       "1  SOUTH PENINSULA HOSPITAL                                          AK   \n",
       "2  GEORGE H. LANIER MEMORIAL HOSPITAL                                AL   \n",
       "3  VA CENTRAL AR. VETERANS HEALTHCARE SYSTEM LR                      AR   \n",
       "4  BANNER GOOD SAMARITAN MEDICAL CENTER                              AZ   \n",
       "5  CENTINELA HOSPITAL MEDICAL CENTER                                 CA   \n",
       "6  PARKER ADVENTIST HOSPITAL                                         CO   \n",
       "7  YALE-NEW HAVEN HOSPITAL                                           CT   \n",
       "8  PROVIDENCE HOSPITAL                                               DC   \n",
       "9  BAYHEALTH - KENT GENERAL HOSPITAL                                 DE   \n",
       "10 FLORIDA HOSPITAL HEARTLAND MEDICAL CENTER                         FL   \n",
       "11 DOCTORS HOSPITAL                                                  GA   \n",
       "12 GUAM MEMORIAL HOSPITAL AUTHORITY                                  GU   \n",
       "13 KUAKINI MEDICAL CENTER                                            HI   \n",
       "14 MERCY MEDICAL CENTER - CEDAR RAPIDS                               IA   \n",
       "15 SAINT ALPHONSUS MEDICAL CENTER - NAMPA                            ID   \n",
       "16 RUSH UNIVERSITY MEDICAL CENTER                                    IL   \n",
       "17 ST CATHERINE HOSPITAL INC                                         IN   \n",
       "18 HAYS MEDICAL CENTER                                               KS   \n",
       "19 WESTLAKE REGIONAL HOSPITAL                                        KY   \n",
       "20 WILLIS KNIGHTON MEDICAL CENTER                                    LA   \n",
       "21 ST ELIZABETH'S MEDICAL CENTER                                     MA   \n",
       "22 MEDSTAR GOOD SAMARITAN HOSPITAL                                   MD   \n",
       "23 MILES MEMORIAL HOSPITAL (LINCOLN COUNTY HEALTHCARE                ME   \n",
       "24 HARPER UNIVERSITY HOSPITAL                                        MI   \n",
       "25 ESSENTIA HEALTH ST JOSEPH'S MEDICAL CENTER                        MN   \n",
       "26 NORTH KANSAS CITY HOSPITAL                                        MO   \n",
       "27 SOUTH CENTRAL REG MED CTR                                         MS   \n",
       "28 COMMUNITY MEDICAL CENTER INC                                      MT   \n",
       "29 FIRSTHEALTH MOORE REGIONAL HOSPITAL                               NC   \n",
       "30 ST ALOISIUS MEDICAL CENTER                                        ND   \n",
       "31 NEBRASKA HEART HOSPITAL                                           NE   \n",
       "32 VALLEY REGIONAL HOSPITAL                                          NH   \n",
       "33 EAST ORANGE GENERAL HOSPITAL                                      NJ   \n",
       "34 LOVELACE REGIONAL HOSPITAL - ROSWELL                              NM   \n",
       "35 MOUNTAINVIEW HOSPITAL                                             NV   \n",
       "36 KINGSBROOK JEWISH MEDICAL CENTER                                  NY   \n",
       "37 FAIRVIEW HOSPITAL                                                 OH   \n",
       "38 DUNCAN REGIONAL HOSPITAL, INC                                     OK   \n",
       "39 PORTLAND VA MEDICAL CENTER                                        OR   \n",
       "40 PHILADELPHIA VA MEDICAL CENTER                                    PA   \n",
       "41 SAN LUKE'S MEMORIAL HOSPITAL INC                                  PR   \n",
       "42 WESTERLY HOSPITAL                                                 RI   \n",
       "43 PALMETTO HEALTH BAPTIST                                           SC   \n",
       "44 AVERA HEART HOSPITAL OF SOUTH DAKOTA LLC                          SD   \n",
       "45 WELLMONT HAWKINS COUNTY MEMORIAL HOSPITAL                         TN   \n",
       "46 FORT DUNCAN MEDICAL CENTER                                        TX   \n",
       "47 VA SALT LAKE CITY HEALTHCARE - GEORGE E. WAHLEN VA MEDICAL CENTER UT   \n",
       "48 SENTARA POTOMAC HOSPITAL                                          VA   \n",
       "49 GOV JUAN F LUIS HOSPITAL & MEDICAL CTR                            VI   \n",
       "50 SPRINGFIELD HOSPITAL                                              VT   \n",
       "51 HARBORVIEW MEDICAL CENTER                                         WA   \n",
       "52 AURORA ST LUKES MEDICAL CENTER                                    WI   \n",
       "53 FAIRMONT GENERAL HOSPITAL                                         WV   \n",
       "54 CHEYENNE VA MEDICAL CENTER                                        WY   "
      ]
     },
     "metadata": {},
     "output_type": "display_data"
    }
   ],
   "source": [
    "rankall(\"heart failure\")"
   ]
  }
 ],
 "metadata": {
  "kernelspec": {
   "display_name": "R",
   "language": "R",
   "name": "ir"
  },
  "language_info": {
   "codemirror_mode": "r",
   "file_extension": ".r",
   "mimetype": "text/x-r-source",
   "name": "R",
   "pygments_lexer": "r",
   "version": "3.5.1"
  }
 },
 "nbformat": 4,
 "nbformat_minor": 5
}
